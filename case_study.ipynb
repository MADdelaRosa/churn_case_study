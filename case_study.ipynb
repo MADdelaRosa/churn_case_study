{
 "cells": [
  {
   "cell_type": "code",
   "execution_count": 107,
   "metadata": {
    "collapsed": true
   },
   "outputs": [],
   "source": [
    "import numpy as np\n",
    "import pandas as pd\n",
    "from sklearn.datasets import make_classification\n",
    "from sklearn.linear_model import LogisticRegression\n",
    "import matplotlib.pyplot as plt\n",
    "from sklearn.model_selection import train_test_split\n",
    "from sklearn.metrics import roc_curve\n",
    "\n",
    "%matplotlib inline"
   ]
  },
  {
   "cell_type": "code",
   "execution_count": 136,
   "metadata": {
    "collapsed": true
   },
   "outputs": [],
   "source": [
    "churn = pd.read_csv(\"data/churn_train.csv\")"
   ]
  },
  {
   "cell_type": "code",
   "execution_count": 137,
   "metadata": {
    "collapsed": true
   },
   "outputs": [],
   "source": [
    "churn['churn'] =1 * (churn.last_trip_date >= '2014-06-01')\n",
    "churn.phone = pd.get_dummies(churn.phone) # Android: 1, IPhone: 0\n",
    "churn.rename(index = str, columns = {'phone': 'Android'}, inplace=True)# change the name\n",
    "\n",
    "churn = pd.concat([churn, pd.get_dummies(churn.city, drop_first=True)], axis=1)\n",
    "churn.drop('city', inplace=True, axis = 1)\n",
    "\n",
    "churn.dropna(how = 'any', inplace= True) # Drop NaN"
   ]
  },
  {
   "cell_type": "code",
   "execution_count": 138,
   "metadata": {
    "collapsed": false
   },
   "outputs": [
    {
     "data": {
      "text/html": [
       "<div>\n",
       "<table border=\"1\" class=\"dataframe\">\n",
       "  <thead>\n",
       "    <tr style=\"text-align: right;\">\n",
       "      <th></th>\n",
       "      <th>avg_dist</th>\n",
       "      <th>avg_rating_by_driver</th>\n",
       "      <th>avg_rating_of_driver</th>\n",
       "      <th>avg_surge</th>\n",
       "      <th>last_trip_date</th>\n",
       "      <th>Android</th>\n",
       "      <th>signup_date</th>\n",
       "      <th>surge_pct</th>\n",
       "      <th>trips_in_first_30_days</th>\n",
       "      <th>luxury_car_user</th>\n",
       "      <th>weekday_pct</th>\n",
       "      <th>churn</th>\n",
       "      <th>King's Landing</th>\n",
       "      <th>Winterfell</th>\n",
       "    </tr>\n",
       "  </thead>\n",
       "  <tbody>\n",
       "    <tr>\n",
       "      <th>0</th>\n",
       "      <td>6.94</td>\n",
       "      <td>5.0</td>\n",
       "      <td>5.0</td>\n",
       "      <td>1.0</td>\n",
       "      <td>2014-05-03</td>\n",
       "      <td>1</td>\n",
       "      <td>2014-01-12</td>\n",
       "      <td>0.0</td>\n",
       "      <td>0</td>\n",
       "      <td>False</td>\n",
       "      <td>100.0</td>\n",
       "      <td>0</td>\n",
       "      <td>0</td>\n",
       "      <td>0</td>\n",
       "    </tr>\n",
       "    <tr>\n",
       "      <th>1</th>\n",
       "      <td>8.06</td>\n",
       "      <td>5.0</td>\n",
       "      <td>5.0</td>\n",
       "      <td>1.0</td>\n",
       "      <td>2014-01-26</td>\n",
       "      <td>1</td>\n",
       "      <td>2014-01-25</td>\n",
       "      <td>0.0</td>\n",
       "      <td>2</td>\n",
       "      <td>True</td>\n",
       "      <td>0.0</td>\n",
       "      <td>0</td>\n",
       "      <td>0</td>\n",
       "      <td>0</td>\n",
       "    </tr>\n",
       "    <tr>\n",
       "      <th>6</th>\n",
       "      <td>4.87</td>\n",
       "      <td>4.7</td>\n",
       "      <td>4.0</td>\n",
       "      <td>1.0</td>\n",
       "      <td>2014-04-21</td>\n",
       "      <td>1</td>\n",
       "      <td>2014-01-18</td>\n",
       "      <td>0.0</td>\n",
       "      <td>0</td>\n",
       "      <td>False</td>\n",
       "      <td>66.7</td>\n",
       "      <td>0</td>\n",
       "      <td>0</td>\n",
       "      <td>0</td>\n",
       "    </tr>\n",
       "    <tr>\n",
       "      <th>7</th>\n",
       "      <td>1.78</td>\n",
       "      <td>4.0</td>\n",
       "      <td>5.0</td>\n",
       "      <td>1.0</td>\n",
       "      <td>2014-01-12</td>\n",
       "      <td>0</td>\n",
       "      <td>2014-01-11</td>\n",
       "      <td>0.0</td>\n",
       "      <td>3</td>\n",
       "      <td>False</td>\n",
       "      <td>0.0</td>\n",
       "      <td>0</td>\n",
       "      <td>0</td>\n",
       "      <td>1</td>\n",
       "    </tr>\n",
       "    <tr>\n",
       "      <th>8</th>\n",
       "      <td>6.87</td>\n",
       "      <td>5.0</td>\n",
       "      <td>4.7</td>\n",
       "      <td>1.0</td>\n",
       "      <td>2014-01-30</td>\n",
       "      <td>1</td>\n",
       "      <td>2014-01-01</td>\n",
       "      <td>0.0</td>\n",
       "      <td>3</td>\n",
       "      <td>False</td>\n",
       "      <td>66.7</td>\n",
       "      <td>0</td>\n",
       "      <td>0</td>\n",
       "      <td>0</td>\n",
       "    </tr>\n",
       "  </tbody>\n",
       "</table>\n",
       "</div>"
      ],
      "text/plain": [
       "   avg_dist  avg_rating_by_driver  avg_rating_of_driver  avg_surge  \\\n",
       "0      6.94                   5.0                   5.0        1.0   \n",
       "1      8.06                   5.0                   5.0        1.0   \n",
       "6      4.87                   4.7                   4.0        1.0   \n",
       "7      1.78                   4.0                   5.0        1.0   \n",
       "8      6.87                   5.0                   4.7        1.0   \n",
       "\n",
       "  last_trip_date  Android signup_date  surge_pct  trips_in_first_30_days  \\\n",
       "0     2014-05-03        1  2014-01-12        0.0                       0   \n",
       "1     2014-01-26        1  2014-01-25        0.0                       2   \n",
       "6     2014-04-21        1  2014-01-18        0.0                       0   \n",
       "7     2014-01-12        0  2014-01-11        0.0                       3   \n",
       "8     2014-01-30        1  2014-01-01        0.0                       3   \n",
       "\n",
       "  luxury_car_user  weekday_pct  churn  King's Landing  Winterfell  \n",
       "0           False        100.0      0               0           0  \n",
       "1            True          0.0      0               0           0  \n",
       "6           False         66.7      0               0           0  \n",
       "7           False          0.0      0               0           1  \n",
       "8           False         66.7      0               0           0  "
      ]
     },
     "execution_count": 138,
     "metadata": {},
     "output_type": "execute_result"
    }
   ],
   "source": [
    "churn.head()"
   ]
  },
  {
   "cell_type": "code",
   "execution_count": 139,
   "metadata": {
    "collapsed": false
   },
   "outputs": [
    {
     "data": {
      "text/html": [
       "<div>\n",
       "<table border=\"1\" class=\"dataframe\">\n",
       "  <thead>\n",
       "    <tr style=\"text-align: right;\">\n",
       "      <th></th>\n",
       "      <th>avg_dist</th>\n",
       "      <th>avg_rating_by_driver</th>\n",
       "      <th>avg_rating_of_driver</th>\n",
       "      <th>avg_surge</th>\n",
       "      <th>Android</th>\n",
       "      <th>surge_pct</th>\n",
       "      <th>trips_in_first_30_days</th>\n",
       "      <th>weekday_pct</th>\n",
       "      <th>churn</th>\n",
       "      <th>King's Landing</th>\n",
       "      <th>Winterfell</th>\n",
       "    </tr>\n",
       "  </thead>\n",
       "  <tbody>\n",
       "    <tr>\n",
       "      <th>count</th>\n",
       "      <td>33367.000000</td>\n",
       "      <td>33367.000000</td>\n",
       "      <td>33367.000000</td>\n",
       "      <td>33367.000000</td>\n",
       "      <td>33367.000000</td>\n",
       "      <td>33367.000000</td>\n",
       "      <td>33367.000000</td>\n",
       "      <td>33367.000000</td>\n",
       "      <td>33367.000000</td>\n",
       "      <td>33367.000000</td>\n",
       "      <td>33367.000000</td>\n",
       "    </tr>\n",
       "    <tr>\n",
       "      <th>mean</th>\n",
       "      <td>5.466273</td>\n",
       "      <td>4.776168</td>\n",
       "      <td>4.601987</td>\n",
       "      <td>1.073655</td>\n",
       "      <td>0.290527</td>\n",
       "      <td>8.861330</td>\n",
       "      <td>2.615728</td>\n",
       "      <td>61.268909</td>\n",
       "      <td>0.410286</td>\n",
       "      <td>0.212455</td>\n",
       "      <td>0.461024</td>\n",
       "    </tr>\n",
       "    <tr>\n",
       "      <th>std</th>\n",
       "      <td>5.144551</td>\n",
       "      <td>0.404764</td>\n",
       "      <td>0.613463</td>\n",
       "      <td>0.197742</td>\n",
       "      <td>0.454012</td>\n",
       "      <td>18.309946</td>\n",
       "      <td>4.082060</td>\n",
       "      <td>34.813958</td>\n",
       "      <td>0.491893</td>\n",
       "      <td>0.409051</td>\n",
       "      <td>0.498486</td>\n",
       "    </tr>\n",
       "    <tr>\n",
       "      <th>min</th>\n",
       "      <td>0.000000</td>\n",
       "      <td>1.000000</td>\n",
       "      <td>1.000000</td>\n",
       "      <td>1.000000</td>\n",
       "      <td>0.000000</td>\n",
       "      <td>0.000000</td>\n",
       "      <td>0.000000</td>\n",
       "      <td>0.000000</td>\n",
       "      <td>0.000000</td>\n",
       "      <td>0.000000</td>\n",
       "      <td>0.000000</td>\n",
       "    </tr>\n",
       "    <tr>\n",
       "      <th>25%</th>\n",
       "      <td>2.420000</td>\n",
       "      <td>4.700000</td>\n",
       "      <td>4.300000</td>\n",
       "      <td>1.000000</td>\n",
       "      <td>0.000000</td>\n",
       "      <td>0.000000</td>\n",
       "      <td>0.000000</td>\n",
       "      <td>37.500000</td>\n",
       "      <td>0.000000</td>\n",
       "      <td>0.000000</td>\n",
       "      <td>0.000000</td>\n",
       "    </tr>\n",
       "    <tr>\n",
       "      <th>50%</th>\n",
       "      <td>3.790000</td>\n",
       "      <td>5.000000</td>\n",
       "      <td>4.900000</td>\n",
       "      <td>1.000000</td>\n",
       "      <td>0.000000</td>\n",
       "      <td>0.000000</td>\n",
       "      <td>1.000000</td>\n",
       "      <td>66.700000</td>\n",
       "      <td>0.000000</td>\n",
       "      <td>0.000000</td>\n",
       "      <td>0.000000</td>\n",
       "    </tr>\n",
       "    <tr>\n",
       "      <th>75%</th>\n",
       "      <td>6.480000</td>\n",
       "      <td>5.000000</td>\n",
       "      <td>5.000000</td>\n",
       "      <td>1.070000</td>\n",
       "      <td>1.000000</td>\n",
       "      <td>11.100000</td>\n",
       "      <td>3.000000</td>\n",
       "      <td>100.000000</td>\n",
       "      <td>1.000000</td>\n",
       "      <td>0.000000</td>\n",
       "      <td>1.000000</td>\n",
       "    </tr>\n",
       "    <tr>\n",
       "      <th>max</th>\n",
       "      <td>79.690000</td>\n",
       "      <td>5.000000</td>\n",
       "      <td>5.000000</td>\n",
       "      <td>8.000000</td>\n",
       "      <td>1.000000</td>\n",
       "      <td>100.000000</td>\n",
       "      <td>125.000000</td>\n",
       "      <td>100.000000</td>\n",
       "      <td>1.000000</td>\n",
       "      <td>1.000000</td>\n",
       "      <td>1.000000</td>\n",
       "    </tr>\n",
       "  </tbody>\n",
       "</table>\n",
       "</div>"
      ],
      "text/plain": [
       "           avg_dist  avg_rating_by_driver  avg_rating_of_driver     avg_surge  \\\n",
       "count  33367.000000          33367.000000          33367.000000  33367.000000   \n",
       "mean       5.466273              4.776168              4.601987      1.073655   \n",
       "std        5.144551              0.404764              0.613463      0.197742   \n",
       "min        0.000000              1.000000              1.000000      1.000000   \n",
       "25%        2.420000              4.700000              4.300000      1.000000   \n",
       "50%        3.790000              5.000000              4.900000      1.000000   \n",
       "75%        6.480000              5.000000              5.000000      1.070000   \n",
       "max       79.690000              5.000000              5.000000      8.000000   \n",
       "\n",
       "            Android     surge_pct  trips_in_first_30_days   weekday_pct  \\\n",
       "count  33367.000000  33367.000000            33367.000000  33367.000000   \n",
       "mean       0.290527      8.861330                2.615728     61.268909   \n",
       "std        0.454012     18.309946                4.082060     34.813958   \n",
       "min        0.000000      0.000000                0.000000      0.000000   \n",
       "25%        0.000000      0.000000                0.000000     37.500000   \n",
       "50%        0.000000      0.000000                1.000000     66.700000   \n",
       "75%        1.000000     11.100000                3.000000    100.000000   \n",
       "max        1.000000    100.000000              125.000000    100.000000   \n",
       "\n",
       "              churn  King's Landing    Winterfell  \n",
       "count  33367.000000    33367.000000  33367.000000  \n",
       "mean       0.410286        0.212455      0.461024  \n",
       "std        0.491893        0.409051      0.498486  \n",
       "min        0.000000        0.000000      0.000000  \n",
       "25%        0.000000        0.000000      0.000000  \n",
       "50%        0.000000        0.000000      0.000000  \n",
       "75%        1.000000        0.000000      1.000000  \n",
       "max        1.000000        1.000000      1.000000  "
      ]
     },
     "execution_count": 139,
     "metadata": {},
     "output_type": "execute_result"
    }
   ],
   "source": [
    "churn.describe()"
   ]
  },
  {
   "cell_type": "code",
   "execution_count": 140,
   "metadata": {
    "collapsed": true
   },
   "outputs": [],
   "source": [
    "y = churn.churn\n",
    "X = churn.drop(['churn', 'last_trip_date', 'signup_date'], axis = 1)\n",
    "X_train, X_test, y_train, y_test = train_test_split(X,y, random_state = 1)"
   ]
  },
  {
   "cell_type": "code",
   "execution_count": 141,
   "metadata": {
    "collapsed": true
   },
   "outputs": [],
   "source": [
    "mod1 = LogisticRegression().fit(X_train, y_train)"
   ]
  },
  {
   "cell_type": "code",
   "execution_count": 146,
   "metadata": {
    "collapsed": false
   },
   "outputs": [
    {
     "data": {
      "text/plain": [
       "0.70450731239510911"
      ]
     },
     "execution_count": 146,
     "metadata": {},
     "output_type": "execute_result"
    }
   ],
   "source": [
    "mod1.score(X_test, y_test)"
   ]
  },
  {
   "cell_type": "code",
   "execution_count": null,
   "metadata": {
    "collapsed": true
   },
   "outputs": [],
   "source": [
    "mod1.score"
   ]
  },
  {
   "cell_type": "code",
   "execution_count": null,
   "metadata": {
    "collapsed": true
   },
   "outputs": [],
   "source": []
  },
  {
   "cell_type": "code",
   "execution_count": null,
   "metadata": {
    "collapsed": true
   },
   "outputs": [],
   "source": []
  },
  {
   "cell_type": "code",
   "execution_count": null,
   "metadata": {
    "collapsed": true
   },
   "outputs": [],
   "source": []
  },
  {
   "cell_type": "code",
   "execution_count": null,
   "metadata": {
    "collapsed": true
   },
   "outputs": [],
   "source": []
  }
 ],
 "metadata": {
  "kernelspec": {
   "display_name": "Python 2",
   "language": "python",
   "name": "python2"
  },
  "language_info": {
   "codemirror_mode": {
    "name": "ipython",
    "version": 2
   },
   "file_extension": ".py",
   "mimetype": "text/x-python",
   "name": "python",
   "nbconvert_exporter": "python",
   "pygments_lexer": "ipython2",
   "version": "2.7.13"
  }
 },
 "nbformat": 4,
 "nbformat_minor": 2
}
